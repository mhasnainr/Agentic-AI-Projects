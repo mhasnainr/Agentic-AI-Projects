{
  "nbformat": 4,
  "nbformat_minor": 0,
  "metadata": {
    "colab": {
      "provenance": []
    },
    "kernelspec": {
      "name": "python3",
      "display_name": "Python 3"
    },
    "language_info": {
      "name": "python"
    }
  },
  "cells": [
    {
      "cell_type": "code",
      "execution_count": 4,
      "metadata": {
        "colab": {
          "base_uri": "https://localhost:8080/"
        },
        "id": "J26DRta6KkVU",
        "outputId": "ce013093-ed4c-4240-e6af-f4acc6516e59"
      },
      "outputs": [
        {
          "output_type": "stream",
          "name": "stdout",
          "text": [
            "\u001b[2K   \u001b[90m━━━━━━━━━━━━━━━━━━━━━━━━━━━━━━━━━━━━━━━━\u001b[0m \u001b[32m1.0/1.0 MB\u001b[0m \u001b[31m13.3 MB/s\u001b[0m eta \u001b[36m0:00:00\u001b[0m\n",
            "\u001b[2K   \u001b[90m━━━━━━━━━━━━━━━━━━━━━━━━━━━━━━━━━━━━━━━━\u001b[0m \u001b[32m411.6/411.6 kB\u001b[0m \u001b[31m24.0 MB/s\u001b[0m eta \u001b[36m0:00:00\u001b[0m\n",
            "\u001b[?25h"
          ]
        }
      ],
      "source": [
        "%pip install -q -U langchain"
      ]
    },
    {
      "cell_type": "code",
      "source": [
        "%pip install -q -U langchain-google-genai"
      ],
      "metadata": {
        "id": "nE93pfF6K40P"
      },
      "execution_count": 5,
      "outputs": []
    },
    {
      "cell_type": "code",
      "source": [
        "import IPython"
      ],
      "metadata": {
        "id": "foARG4eNLaJx"
      },
      "execution_count": 6,
      "outputs": []
    },
    {
      "cell_type": "code",
      "source": [
        "app = IPython.Application.instance()\n",
        "app.kernel.do_shutdown(True)"
      ],
      "metadata": {
        "colab": {
          "base_uri": "https://localhost:8080/"
        },
        "id": "zo-Slgl9LdAf",
        "outputId": "413869c8-e47e-4cd0-f30c-f01109110b34"
      },
      "execution_count": 7,
      "outputs": [
        {
          "output_type": "execute_result",
          "data": {
            "text/plain": [
              "{'status': 'ok', 'restart': True}"
            ]
          },
          "metadata": {},
          "execution_count": 7
        }
      ]
    },
    {
      "cell_type": "code",
      "source": [
        "import textwrap\n",
        "from IPython.display import Markdown"
      ],
      "metadata": {
        "id": "M24W6RnuLjyC"
      },
      "execution_count": 3,
      "outputs": []
    },
    {
      "cell_type": "code",
      "source": [
        "def to_markdown(text) -> Markdown:\n",
        "  text: str = text.replace(\"•\", \"  *\")\n",
        "  return Markdown(textwrap.indent(text, \"> \", predicate = lambda _: True ))"
      ],
      "metadata": {
        "id": "989sodXYmIsX"
      },
      "execution_count": 5,
      "outputs": []
    },
    {
      "cell_type": "code",
      "source": [
        "from google.colab import userdata"
      ],
      "metadata": {
        "id": "JfZWIdBpxqep"
      },
      "execution_count": 6,
      "outputs": []
    },
    {
      "cell_type": "code",
      "source": [
        "google_api_key = userdata.get('GOOGLE_API_KEY')"
      ],
      "metadata": {
        "id": "iyl_MaCFyajX"
      },
      "execution_count": 7,
      "outputs": []
    },
    {
      "cell_type": "code",
      "source": [
        "from langchain_google_genai import ChatGoogleGenerativeAI"
      ],
      "metadata": {
        "id": "0it9U8D6ymKA"
      },
      "execution_count": 8,
      "outputs": []
    },
    {
      "cell_type": "code",
      "source": [
        "from langchain_core.messages.ai import AIMessage"
      ],
      "metadata": {
        "id": "POCFBV-lyqmt"
      },
      "execution_count": 9,
      "outputs": []
    },
    {
      "cell_type": "code",
      "source": [
        "llm: ChatGoogleGenerativeAI = ChatGoogleGenerativeAI(\n",
        "    model=\"gemini-1.5-flash\",\n",
        "    api_key=google_api_key,\n",
        "    temperature=0.2,\n",
        ")"
      ],
      "metadata": {
        "id": "Kogeo1TayvDj"
      },
      "execution_count": 10,
      "outputs": []
    },
    {
      "cell_type": "code",
      "source": [
        "ai_msg: AIMessage = llm.invoke(\"List down top tech-famous universities of the world\")"
      ],
      "metadata": {
        "id": "hjnFq_qwy-vi"
      },
      "execution_count": 11,
      "outputs": []
    },
    {
      "cell_type": "code",
      "source": [
        "ai_msg"
      ],
      "metadata": {
        "colab": {
          "base_uri": "https://localhost:8080/"
        },
        "id": "nf9aZYAnznzN",
        "outputId": "17ef3a26-643b-4e68-9cb2-595bda8e4fc9"
      },
      "execution_count": 12,
      "outputs": [
        {
          "output_type": "execute_result",
          "data": {
            "text/plain": [
              "AIMessage(content='There\\'s no single definitive ranking of \"top tech universities,\" as different ranking systems use different metrics (research output, faculty reputation, student outcomes, etc.).  However, consistently high-ranking universities known for their strong computer science, engineering, and related technology programs include:\\n\\n**United States:**\\n\\n* **Massachusetts Institute of Technology (MIT):** Consistently ranked #1 or very near the top globally for engineering and computer science.\\n* **Stanford University:**  A powerhouse in Silicon Valley, renowned for its entrepreneurship and ties to the tech industry.\\n* **California Institute of Technology (Caltech):**  Focuses heavily on science and engineering, with exceptional programs in computer science and related fields.\\n* **Carnegie Mellon University (CMU):**  Highly regarded for its computer science, robotics, and artificial intelligence programs.\\n* **University of California, Berkeley (UC Berkeley):**  A public university with a strong tradition in engineering and computer science, producing many tech leaders.\\n* **University of California, Los Angeles (UCLA):** Another strong public university with excellent engineering and computer science departments.\\n* **University of Illinois at Urbana-Champaign (UIUC):**  Known for its strong engineering and computer science programs, particularly in areas like computer architecture.\\n* **Cornell University:**  A highly selective Ivy League university with a strong engineering school and growing presence in computer science and related fields.\\n\\n\\n**Other Countries:**\\n\\n* **University of Oxford (UK):**  A prestigious university with a growing reputation in computer science and related fields.\\n* **University of Cambridge (UK):**  Similar to Oxford, with strong programs in computer science and engineering.\\n* **ETH Zurich (Switzerland):**  A leading technical university with a strong focus on science and engineering, producing many notable alumni in tech.\\n* **National University of Singapore (NUS):**  A leading university in Asia with strong engineering and computer science programs.\\n* **Tsinghua University (China):**  A top university in China with rapidly growing strength in technology and engineering.\\n* **University of Tokyo (Japan):**  A prestigious university with a long history of excellence in engineering and science.\\n\\n\\nThis list isn\\'t exhaustive, and many other excellent universities worldwide offer strong technology programs.  The \"best\" university for a particular student will depend on individual interests, research opportunities, and career goals.  It\\'s crucial to look beyond overall rankings and examine specific department strengths and faculty expertise.\\n', additional_kwargs={}, response_metadata={'prompt_feedback': {'block_reason': 0, 'safety_ratings': []}, 'finish_reason': 'STOP', 'safety_ratings': []}, id='run-c360d12b-45c0-4626-a248-1aaa8f7bb167-0', usage_metadata={'input_tokens': 11, 'output_tokens': 511, 'total_tokens': 522, 'input_token_details': {'cache_read': 0}})"
            ]
          },
          "metadata": {},
          "execution_count": 12
        }
      ]
    },
    {
      "cell_type": "code",
      "source": [
        "ai_msg.content"
      ],
      "metadata": {
        "colab": {
          "base_uri": "https://localhost:8080/",
          "height": 104
        },
        "id": "EApq1lqMzrqg",
        "outputId": "204cc628-7867-4d8e-acdb-85fd7cca4f5f"
      },
      "execution_count": 13,
      "outputs": [
        {
          "output_type": "execute_result",
          "data": {
            "text/plain": [
              "'There\\'s no single definitive ranking of \"top tech universities,\" as different ranking systems use different metrics (research output, faculty reputation, student outcomes, etc.).  However, consistently high-ranking universities known for their strong computer science, engineering, and related technology programs include:\\n\\n**United States:**\\n\\n* **Massachusetts Institute of Technology (MIT):** Consistently ranked #1 or very near the top globally for engineering and computer science.\\n* **Stanford University:**  A powerhouse in Silicon Valley, renowned for its entrepreneurship and ties to the tech industry.\\n* **California Institute of Technology (Caltech):**  Focuses heavily on science and engineering, with exceptional programs in computer science and related fields.\\n* **Carnegie Mellon University (CMU):**  Highly regarded for its computer science, robotics, and artificial intelligence programs.\\n* **University of California, Berkeley (UC Berkeley):**  A public university with a strong tradition in engineering and computer science, producing many tech leaders.\\n* **University of California, Los Angeles (UCLA):** Another strong public university with excellent engineering and computer science departments.\\n* **University of Illinois at Urbana-Champaign (UIUC):**  Known for its strong engineering and computer science programs, particularly in areas like computer architecture.\\n* **Cornell University:**  A highly selective Ivy League university with a strong engineering school and growing presence in computer science and related fields.\\n\\n\\n**Other Countries:**\\n\\n* **University of Oxford (UK):**  A prestigious university with a growing reputation in computer science and related fields.\\n* **University of Cambridge (UK):**  Similar to Oxford, with strong programs in computer science and engineering.\\n* **ETH Zurich (Switzerland):**  A leading technical university with a strong focus on science and engineering, producing many notable alumni in tech.\\n* **National University of Singapore (NUS):**  A leading university in Asia with strong engineering and computer science programs.\\n* **Tsinghua University (China):**  A top university in China with rapidly growing strength in technology and engineering.\\n* **University of Tokyo (Japan):**  A prestigious university with a long history of excellence in engineering and science.\\n\\n\\nThis list isn\\'t exhaustive, and many other excellent universities worldwide offer strong technology programs.  The \"best\" university for a particular student will depend on individual interests, research opportunities, and career goals.  It\\'s crucial to look beyond overall rankings and examine specific department strengths and faculty expertise.\\n'"
            ],
            "application/vnd.google.colaboratory.intrinsic+json": {
              "type": "string"
            }
          },
          "metadata": {},
          "execution_count": 13
        }
      ]
    },
    {
      "cell_type": "code",
      "source": [
        "to_markdown(ai_msg.content)"
      ],
      "metadata": {
        "colab": {
          "base_uri": "https://localhost:8080/",
          "height": 544
        },
        "id": "faZvf0dvzyc3",
        "outputId": "75d79b47-accd-4741-9710-50ece44fcd04"
      },
      "execution_count": 14,
      "outputs": [
        {
          "output_type": "execute_result",
          "data": {
            "text/plain": [
              "<IPython.core.display.Markdown object>"
            ],
            "text/markdown": "> There's no single definitive ranking of \"top tech universities,\" as different ranking systems use different metrics (research output, faculty reputation, student outcomes, etc.).  However, consistently high-ranking universities known for their strong computer science, engineering, and related technology programs include:\n> \n> **United States:**\n> \n> * **Massachusetts Institute of Technology (MIT):** Consistently ranked #1 or very near the top globally for engineering and computer science.\n> * **Stanford University:**  A powerhouse in Silicon Valley, renowned for its entrepreneurship and ties to the tech industry.\n> * **California Institute of Technology (Caltech):**  Focuses heavily on science and engineering, with exceptional programs in computer science and related fields.\n> * **Carnegie Mellon University (CMU):**  Highly regarded for its computer science, robotics, and artificial intelligence programs.\n> * **University of California, Berkeley (UC Berkeley):**  A public university with a strong tradition in engineering and computer science, producing many tech leaders.\n> * **University of California, Los Angeles (UCLA):** Another strong public university with excellent engineering and computer science departments.\n> * **University of Illinois at Urbana-Champaign (UIUC):**  Known for its strong engineering and computer science programs, particularly in areas like computer architecture.\n> * **Cornell University:**  A highly selective Ivy League university with a strong engineering school and growing presence in computer science and related fields.\n> \n> \n> **Other Countries:**\n> \n> * **University of Oxford (UK):**  A prestigious university with a growing reputation in computer science and related fields.\n> * **University of Cambridge (UK):**  Similar to Oxford, with strong programs in computer science and engineering.\n> * **ETH Zurich (Switzerland):**  A leading technical university with a strong focus on science and engineering, producing many notable alumni in tech.\n> * **National University of Singapore (NUS):**  A leading university in Asia with strong engineering and computer science programs.\n> * **Tsinghua University (China):**  A top university in China with rapidly growing strength in technology and engineering.\n> * **University of Tokyo (Japan):**  A prestigious university with a long history of excellence in engineering and science.\n> \n> \n> This list isn't exhaustive, and many other excellent universities worldwide offer strong technology programs.  The \"best\" university for a particular student will depend on individual interests, research opportunities, and career goals.  It's crucial to look beyond overall rankings and examine specific department strengths and faculty expertise.\n"
          },
          "metadata": {},
          "execution_count": 14
        }
      ]
    },
    {
      "cell_type": "code",
      "source": [
        "ai_msg: AIMessage = llm.invoke(\"What is Agentic AI\")"
      ],
      "metadata": {
        "id": "wTNl7Fttz4DI"
      },
      "execution_count": 15,
      "outputs": []
    },
    {
      "cell_type": "code",
      "source": [
        "ai_msg"
      ],
      "metadata": {
        "colab": {
          "base_uri": "https://localhost:8080/"
        },
        "id": "P_HEyAWP1Wze",
        "outputId": "a727c2dc-0b16-4f54-aced-cc2dcfb9fcf2"
      },
      "execution_count": 16,
      "outputs": [
        {
          "output_type": "execute_result",
          "data": {
            "text/plain": [
              "AIMessage(content=\"Agentic AI refers to artificial intelligence systems that are capable of independent action and goal-directed behavior in the world.  Unlike reactive AI, which simply responds to stimuli, or deliberative AI, which plans actions based on a pre-defined model, agentic AI possesses the following key characteristics:\\n\\n* **Autonomy:**  It can operate without constant human intervention, making its own decisions and choosing its own actions within a given context.\\n* **Goal-directedness:** It has its own goals or objectives and actively pursues them.  These goals might be explicitly programmed, learned through reinforcement learning, or emerge from a combination of factors.\\n* **Proactiveness:** It doesn't just react to its environment; it actively seeks out opportunities and takes initiative to achieve its goals.\\n* **Adaptation:** It can learn and adapt to changing circumstances and unexpected events.  This often involves adjusting its strategies and plans as needed.\\n* **Persistence:** It continues to pursue its goals even in the face of obstacles or setbacks.\\n\\n\\nExamples of agentic AI (or systems moving towards it) include:\\n\\n* **Self-driving cars:**  These cars must navigate complex environments, make decisions about lane changes and speed, and react to unexpected events, all without constant human input.\\n* **Robotics in manufacturing:** Robots that can autonomously perform tasks on a factory floor, adapting to variations in the workpieces or environment.\\n* **AI assistants with proactive capabilities:**  An AI assistant that anticipates your needs and proactively offers assistance, rather than simply responding to your commands.\\n* **Game-playing AI:**  AI agents in games like StarCraft or Dota 2 exhibit agentic behavior by strategically planning and executing actions to win the game.\\n\\n\\nThe development of truly agentic AI raises significant ethical and safety concerns, including:\\n\\n* **Unintended consequences:**  An AI with its own goals might pursue them in ways that are harmful or unexpected.\\n* **Alignment problem:** Ensuring that the AI's goals align with human values is a major challenge.\\n* **Control and accountability:**  Determining who is responsible when an agentic AI makes a mistake or causes harm is a complex legal and ethical issue.\\n\\n\\nAgentic AI represents a significant step forward in AI capabilities, but its development requires careful consideration of these potential risks.  It's a field of active research and debate, with ongoing efforts to develop safer and more beneficial agentic systems.\\n\", additional_kwargs={}, response_metadata={'prompt_feedback': {'block_reason': 0, 'safety_ratings': []}, 'finish_reason': 'STOP', 'safety_ratings': []}, id='run-196e46b3-a3ae-4ee0-a3a9-6a6d37fd2bdd-0', usage_metadata={'input_tokens': 6, 'output_tokens': 498, 'total_tokens': 504, 'input_token_details': {'cache_read': 0}})"
            ]
          },
          "metadata": {},
          "execution_count": 16
        }
      ]
    },
    {
      "cell_type": "code",
      "source": [
        "ai_msg.content"
      ],
      "metadata": {
        "colab": {
          "base_uri": "https://localhost:8080/",
          "height": 104
        },
        "id": "T3Ga-aKX1eq5",
        "outputId": "2a42de4b-92f7-418f-f652-5180d57721e3"
      },
      "execution_count": 17,
      "outputs": [
        {
          "output_type": "execute_result",
          "data": {
            "text/plain": [
              "\"Agentic AI refers to artificial intelligence systems that are capable of independent action and goal-directed behavior in the world.  Unlike reactive AI, which simply responds to stimuli, or deliberative AI, which plans actions based on a pre-defined model, agentic AI possesses the following key characteristics:\\n\\n* **Autonomy:**  It can operate without constant human intervention, making its own decisions and choosing its own actions within a given context.\\n* **Goal-directedness:** It has its own goals or objectives and actively pursues them.  These goals might be explicitly programmed, learned through reinforcement learning, or emerge from a combination of factors.\\n* **Proactiveness:** It doesn't just react to its environment; it actively seeks out opportunities and takes initiative to achieve its goals.\\n* **Adaptation:** It can learn and adapt to changing circumstances and unexpected events.  This often involves adjusting its strategies and plans as needed.\\n* **Persistence:** It continues to pursue its goals even in the face of obstacles or setbacks.\\n\\n\\nExamples of agentic AI (or systems moving towards it) include:\\n\\n* **Self-driving cars:**  These cars must navigate complex environments, make decisions about lane changes and speed, and react to unexpected events, all without constant human input.\\n* **Robotics in manufacturing:** Robots that can autonomously perform tasks on a factory floor, adapting to variations in the workpieces or environment.\\n* **AI assistants with proactive capabilities:**  An AI assistant that anticipates your needs and proactively offers assistance, rather than simply responding to your commands.\\n* **Game-playing AI:**  AI agents in games like StarCraft or Dota 2 exhibit agentic behavior by strategically planning and executing actions to win the game.\\n\\n\\nThe development of truly agentic AI raises significant ethical and safety concerns, including:\\n\\n* **Unintended consequences:**  An AI with its own goals might pursue them in ways that are harmful or unexpected.\\n* **Alignment problem:** Ensuring that the AI's goals align with human values is a major challenge.\\n* **Control and accountability:**  Determining who is responsible when an agentic AI makes a mistake or causes harm is a complex legal and ethical issue.\\n\\n\\nAgentic AI represents a significant step forward in AI capabilities, but its development requires careful consideration of these potential risks.  It's a field of active research and debate, with ongoing efforts to develop safer and more beneficial agentic systems.\\n\""
            ],
            "application/vnd.google.colaboratory.intrinsic+json": {
              "type": "string"
            }
          },
          "metadata": {},
          "execution_count": 17
        }
      ]
    },
    {
      "cell_type": "code",
      "source": [
        "to_markdown(ai_msg.content)"
      ],
      "metadata": {
        "colab": {
          "base_uri": "https://localhost:8080/",
          "height": 532
        },
        "id": "WQX5e4Fk1jQB",
        "outputId": "2b72a7e0-cbb4-4873-baac-00325b7909d3"
      },
      "execution_count": 18,
      "outputs": [
        {
          "output_type": "execute_result",
          "data": {
            "text/plain": [
              "<IPython.core.display.Markdown object>"
            ],
            "text/markdown": "> Agentic AI refers to artificial intelligence systems that are capable of independent action and goal-directed behavior in the world.  Unlike reactive AI, which simply responds to stimuli, or deliberative AI, which plans actions based on a pre-defined model, agentic AI possesses the following key characteristics:\n> \n> * **Autonomy:**  It can operate without constant human intervention, making its own decisions and choosing its own actions within a given context.\n> * **Goal-directedness:** It has its own goals or objectives and actively pursues them.  These goals might be explicitly programmed, learned through reinforcement learning, or emerge from a combination of factors.\n> * **Proactiveness:** It doesn't just react to its environment; it actively seeks out opportunities and takes initiative to achieve its goals.\n> * **Adaptation:** It can learn and adapt to changing circumstances and unexpected events.  This often involves adjusting its strategies and plans as needed.\n> * **Persistence:** It continues to pursue its goals even in the face of obstacles or setbacks.\n> \n> \n> Examples of agentic AI (or systems moving towards it) include:\n> \n> * **Self-driving cars:**  These cars must navigate complex environments, make decisions about lane changes and speed, and react to unexpected events, all without constant human input.\n> * **Robotics in manufacturing:** Robots that can autonomously perform tasks on a factory floor, adapting to variations in the workpieces or environment.\n> * **AI assistants with proactive capabilities:**  An AI assistant that anticipates your needs and proactively offers assistance, rather than simply responding to your commands.\n> * **Game-playing AI:**  AI agents in games like StarCraft or Dota 2 exhibit agentic behavior by strategically planning and executing actions to win the game.\n> \n> \n> The development of truly agentic AI raises significant ethical and safety concerns, including:\n> \n> * **Unintended consequences:**  An AI with its own goals might pursue them in ways that are harmful or unexpected.\n> * **Alignment problem:** Ensuring that the AI's goals align with human values is a major challenge.\n> * **Control and accountability:**  Determining who is responsible when an agentic AI makes a mistake or causes harm is a complex legal and ethical issue.\n> \n> \n> Agentic AI represents a significant step forward in AI capabilities, but its development requires careful consideration of these potential risks.  It's a field of active research and debate, with ongoing efforts to develop safer and more beneficial agentic systems.\n"
          },
          "metadata": {},
          "execution_count": 18
        }
      ]
    },
    {
      "cell_type": "code",
      "source": [],
      "metadata": {
        "id": "0BmFuYkv1olj"
      },
      "execution_count": null,
      "outputs": []
    }
  ]
}